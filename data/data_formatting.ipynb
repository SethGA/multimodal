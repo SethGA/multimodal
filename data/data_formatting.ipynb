{
 "cells": [
  {
   "cell_type": "code",
   "execution_count": 2,
   "metadata": {},
   "outputs": [],
   "source": [
    "import json\n",
    "\n",
    "# Function to format each line of JSON\n",
    "def format_json_line(line):\n",
    "    # Parse JSON\n",
    "    data = json.loads(line)\n",
    "    \n",
    "    # Extract instruction and output\n",
    "    instruction = data[\"instruction\"]\n",
    "    output = data[\"output\"]\n",
    "    \n",
    "    # Create new dictionary with required fields\n",
    "    formatted_data = {\n",
    "        \"instruction\": instruction,\n",
    "        \"input\": \"\",\n",
    "        \"output\": output,\n",
    "        \"text\": f\"Below is an instruction that describes a task. Write a response that appropriately completes the request. ### Instruction: {instruction} ### Response: {output}\"\n",
    "    }\n",
    "    \n",
    "    # Convert dictionary to JSON format\n",
    "    formatted_line = json.dumps(formatted_data)\n",
    "    \n",
    "    return formatted_line\n",
    "\n",
    "# Read original JSON file\n",
    "with open(\"neo.json\", \"r\") as infile:\n",
    "    # Read each line, format it, and write to a new file\n",
    "    with open(\"formatted.json\", \"w\") as outfile:\n",
    "        for line in infile:\n",
    "            formatted_line = format_json_line(line)\n",
    "            outfile.write(formatted_line + \"\\n\")\n"
   ]
  },
  {
   "cell_type": "code",
   "execution_count": null,
   "metadata": {},
   "outputs": [],
   "source": [
    "import json\n",
    "\n",
    "def extract_ids(input_file, output_file):\n",
    "    with open(input_file, 'r') as f:\n",
    "        data = json.load(f)\n",
    "    \n",
    "    ids = [{\"id\": item[\"id\"]} for item in data]\n",
    "\n",
    "    with open(output_file, 'w') as f:\n",
    "        for item in ids:\n",
    "            json.dump(item, f)\n",
    "            f.write('\\n')\n",
    "\n",
    "if __name__ == \"__main__\":\n",
    "    input_file = \"detail_23k.json\"\n",
    "    output_file = \"ids.json\"\n",
    "    extract_ids(input_file, output_file)\n"
   ]
  },
  {
   "cell_type": "code",
   "execution_count": 3,
   "metadata": {},
   "outputs": [
    {
     "name": "stderr",
     "output_type": "stream",
     "text": [
      "c:\\Users\\sethg\\miniconda3\\envs\\hf\\lib\\site-packages\\tqdm\\auto.py:21: TqdmWarning: IProgress not found. Please update jupyter and ipywidgets. See https://ipywidgets.readthedocs.io/en/stable/user_install.html\n",
      "  from .autonotebook import tqdm as notebook_tqdm\n"
     ]
    }
   ],
   "source": [
    "import pandas as pd\n",
    "from sklearn.model_selection import train_test_split\n",
    "from datasets import Dataset, DatasetDict\n",
    "\n",
    "# Setting up Hugging Face CLI\n",
    "from huggingface_hub import HfApi, HfFolder\n",
    "import os"
   ]
  },
  {
   "cell_type": "code",
   "execution_count": 11,
   "metadata": {},
   "outputs": [],
   "source": [
    "neocortex = pd.read_json('neo_alpaca.json', lines=True)\n",
    "neocortex.reset_index(drop=True, inplace=True)\n",
    "# train_neo, test_neo = train_test_split(\n",
    "#     neocortex, test_size=0.15, random_state=42, shuffle=True\n",
    "# )"
   ]
  },
  {
   "cell_type": "code",
   "execution_count": 12,
   "metadata": {},
   "outputs": [],
   "source": [
    "train_neo = Dataset.from_pandas(neocortex)\n",
    "# test_neo = Dataset.from_pandas(test_neo)\n",
    "\n",
    "ds = DatasetDict()\n",
    "ds[\"train\"] = train_neo\n",
    "# ds[\"test\"] = test_neo"
   ]
  },
  {
   "cell_type": "code",
   "execution_count": 13,
   "metadata": {},
   "outputs": [
    {
     "name": "stderr",
     "output_type": "stream",
     "text": [
      "c:\\Users\\sethg\\miniconda3\\envs\\hf\\lib\\site-packages\\datasets\\dataset_dict.py:1667: FutureWarning: 'branch' was deprecated in favor of 'revision' in version 2.15.0 and will be removed in 3.0.0.\n",
      "You can remove this warning by passing 'revision=main' instead.\n",
      "  warnings.warn(\n",
      "Creating parquet from Arrow format: 100%|██████████| 24/24 [00:00<00:00, 93.80ba/s]\n",
      "Uploading the dataset shards: 100%|██████████| 1/1 [00:05<00:00,  5.08s/it]\n",
      "README.md: 100%|██████████| 544/544 [00:00<00:00, 109kB/s]\n"
     ]
    },
    {
     "data": {
      "text/plain": [
       "CommitInfo(commit_url='https://huggingface.co/datasets/SethGA/neocortex/commit/521f1d47b3f6fc5fbb31f0dcec4a1ada0a18fa73', commit_message='Upload dataset', commit_description='', oid='521f1d47b3f6fc5fbb31f0dcec4a1ada0a18fa73', pr_url=None, pr_revision=None, pr_num=None)"
      ]
     },
     "execution_count": 13,
     "metadata": {},
     "output_type": "execute_result"
    }
   ],
   "source": [
    "dataset_name = \"SethGA/neocortex\"\n",
    "ds.push_to_hub(dataset_name, branch=\"main\", private=True)"
   ]
  }
 ],
 "metadata": {
  "kernelspec": {
   "display_name": "lavis",
   "language": "python",
   "name": "python3"
  },
  "language_info": {
   "codemirror_mode": {
    "name": "ipython",
    "version": 3
   },
   "file_extension": ".py",
   "mimetype": "text/x-python",
   "name": "python",
   "nbconvert_exporter": "python",
   "pygments_lexer": "ipython3",
   "version": "3.8.18"
  }
 },
 "nbformat": 4,
 "nbformat_minor": 2
}
